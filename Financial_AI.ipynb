{
  "cells": [
    {
      "cell_type": "code",
      "execution_count": null,
      "id": "af7feb68-56b7-43a3-8d09-8f5e7d6745e8",
      "metadata": {
        "colab": {
          "base_uri": "https://localhost:8080/",
          "height": 755
        },
        "id": "af7feb68-56b7-43a3-8d09-8f5e7d6745e8",
        "outputId": "6c6e8887-edd8-4066-9938-1981111ab34b"
      },
      "outputs": [
        {
          "output_type": "stream",
          "name": "stdout",
          "text": [
            "Financial Stock Assistant Chatbot: Hello! How can I assist you today?\n",
            "Financial Stock Assistant Chatbot: For Apple Inc. stock (AAPL):                         \n",
            "- Current price: $226.51                         \n",
            "- Opening price: $225.77                         \n",
            "- Closing price: $226.51                         \n",
            "- Highest price today: $227.17                         \n",
            "- Lowest price today: $225.45                         \n",
            "- Volume: 30241200\n",
            "Financial Stock Assistant Chatbot: For Apple Inc. stock (AAPL):                         \n",
            "- Current price: $226.51                         \n",
            "- Opening price: $225.77                         \n",
            "- Closing price: $226.51                         \n",
            "- Highest price today: $227.17                         \n",
            "- Lowest price today: $225.45                         \n",
            "- Volume: 30241200\n",
            "You: MSFT\n",
            "Financial Stock Assistant Chatbot: For Microsoft Corporation stock (MSFT):                         \n",
            "- Current price: $424.80                         \n",
            "- Opening price: $421.70                         \n",
            "- Closing price: $424.80                         \n",
            "- Highest price today: $425.86                         \n",
            "- Lowest price today: $421.64                         \n",
            "- Volume: 16352000\n"
          ]
        },
        {
          "output_type": "error",
          "ename": "KeyboardInterrupt",
          "evalue": "Interrupted by user",
          "traceback": [
            "\u001b[0;31m---------------------------------------------------------------------------\u001b[0m",
            "\u001b[0;31mKeyboardInterrupt\u001b[0m                         Traceback (most recent call last)",
            "\u001b[0;32m<ipython-input-1-5b56e44ee04c>\u001b[0m in \u001b[0;36m<cell line: 93>\u001b[0;34m()\u001b[0m\n\u001b[1;32m     92\u001b[0m \u001b[0mprint\u001b[0m\u001b[0;34m(\u001b[0m\u001b[0;34m\"Financial Stock Assistant Chatbot: Hello! How can I assist you today?\"\u001b[0m\u001b[0;34m)\u001b[0m\u001b[0;34m\u001b[0m\u001b[0;34m\u001b[0m\u001b[0m\n\u001b[1;32m     93\u001b[0m \u001b[0;32mwhile\u001b[0m \u001b[0;32mTrue\u001b[0m\u001b[0;34m:\u001b[0m\u001b[0;34m\u001b[0m\u001b[0;34m\u001b[0m\u001b[0m\n\u001b[0;32m---> 94\u001b[0;31m     \u001b[0muser_input\u001b[0m \u001b[0;34m=\u001b[0m \u001b[0minput\u001b[0m\u001b[0;34m(\u001b[0m\u001b[0;34m\"You: \"\u001b[0m\u001b[0;34m)\u001b[0m\u001b[0;34m\u001b[0m\u001b[0;34m\u001b[0m\u001b[0m\n\u001b[0m\u001b[1;32m     95\u001b[0m     \u001b[0;32mif\u001b[0m \u001b[0muser_input\u001b[0m\u001b[0;34m.\u001b[0m\u001b[0mlower\u001b[0m\u001b[0;34m(\u001b[0m\u001b[0;34m)\u001b[0m \u001b[0;34m==\u001b[0m \u001b[0;34m'exit'\u001b[0m\u001b[0;34m:\u001b[0m\u001b[0;34m\u001b[0m\u001b[0;34m\u001b[0m\u001b[0m\n\u001b[1;32m     96\u001b[0m         \u001b[0mprint\u001b[0m\u001b[0;34m(\u001b[0m\u001b[0;34m\"Financial Stock Assistant Chatbot: Goodbye! Have a great day!\"\u001b[0m\u001b[0;34m)\u001b[0m\u001b[0;34m\u001b[0m\u001b[0;34m\u001b[0m\u001b[0m\n",
            "\u001b[0;32m/usr/local/lib/python3.10/dist-packages/ipykernel/kernelbase.py\u001b[0m in \u001b[0;36mraw_input\u001b[0;34m(self, prompt)\u001b[0m\n\u001b[1;32m    849\u001b[0m                 \u001b[0;34m\"raw_input was called, but this frontend does not support input requests.\"\u001b[0m\u001b[0;34m\u001b[0m\u001b[0;34m\u001b[0m\u001b[0m\n\u001b[1;32m    850\u001b[0m             )\n\u001b[0;32m--> 851\u001b[0;31m         return self._input_request(str(prompt),\n\u001b[0m\u001b[1;32m    852\u001b[0m             \u001b[0mself\u001b[0m\u001b[0;34m.\u001b[0m\u001b[0m_parent_ident\u001b[0m\u001b[0;34m,\u001b[0m\u001b[0;34m\u001b[0m\u001b[0;34m\u001b[0m\u001b[0m\n\u001b[1;32m    853\u001b[0m             \u001b[0mself\u001b[0m\u001b[0;34m.\u001b[0m\u001b[0m_parent_header\u001b[0m\u001b[0;34m,\u001b[0m\u001b[0;34m\u001b[0m\u001b[0;34m\u001b[0m\u001b[0m\n",
            "\u001b[0;32m/usr/local/lib/python3.10/dist-packages/ipykernel/kernelbase.py\u001b[0m in \u001b[0;36m_input_request\u001b[0;34m(self, prompt, ident, parent, password)\u001b[0m\n\u001b[1;32m    893\u001b[0m             \u001b[0;32mexcept\u001b[0m \u001b[0mKeyboardInterrupt\u001b[0m\u001b[0;34m:\u001b[0m\u001b[0;34m\u001b[0m\u001b[0;34m\u001b[0m\u001b[0m\n\u001b[1;32m    894\u001b[0m                 \u001b[0;31m# re-raise KeyboardInterrupt, to truncate traceback\u001b[0m\u001b[0;34m\u001b[0m\u001b[0;34m\u001b[0m\u001b[0m\n\u001b[0;32m--> 895\u001b[0;31m                 \u001b[0;32mraise\u001b[0m \u001b[0mKeyboardInterrupt\u001b[0m\u001b[0;34m(\u001b[0m\u001b[0;34m\"Interrupted by user\"\u001b[0m\u001b[0;34m)\u001b[0m \u001b[0;32mfrom\u001b[0m \u001b[0;32mNone\u001b[0m\u001b[0;34m\u001b[0m\u001b[0;34m\u001b[0m\u001b[0m\n\u001b[0m\u001b[1;32m    896\u001b[0m             \u001b[0;32mexcept\u001b[0m \u001b[0mException\u001b[0m \u001b[0;32mas\u001b[0m \u001b[0me\u001b[0m\u001b[0;34m:\u001b[0m\u001b[0;34m\u001b[0m\u001b[0;34m\u001b[0m\u001b[0m\n\u001b[1;32m    897\u001b[0m                 \u001b[0mself\u001b[0m\u001b[0;34m.\u001b[0m\u001b[0mlog\u001b[0m\u001b[0;34m.\u001b[0m\u001b[0mwarning\u001b[0m\u001b[0;34m(\u001b[0m\u001b[0;34m\"Invalid Message:\"\u001b[0m\u001b[0;34m,\u001b[0m \u001b[0mexc_info\u001b[0m\u001b[0;34m=\u001b[0m\u001b[0;32mTrue\u001b[0m\u001b[0;34m)\u001b[0m\u001b[0;34m\u001b[0m\u001b[0;34m\u001b[0m\u001b[0m\n",
            "\u001b[0;31mKeyboardInterrupt\u001b[0m: Interrupted by user"
          ]
        }
      ],
      "source": [
        "import yfinance as yf\n",
        "import pandas as pd\n",
        "import random\n",
        "from sklearn.feature_extraction.text import TfidfVectorizer\n",
        "from sklearn.metrics.pairwise import cosine_similarity\n",
        "\n",
        "# Function to fetch live stock data\n",
        "def get_live_stock_data(symbol):\n",
        "    stock = yf.Ticker(symbol)\n",
        "    data = stock.history(period=\"1d\")\n",
        "    return data\n",
        "\n",
        "# Function to generate answers based on live market data\n",
        "def generate_answers(symbols):\n",
        "    answers = []\n",
        "    for symbol in symbols:\n",
        "        try:\n",
        "            data = get_live_stock_data(symbol)\n",
        "            latest_price = data['Close'].iloc[-1]\n",
        "            open_price = data['Open'].iloc[-1]\n",
        "            close_price = data['Close'].iloc[-1]\n",
        "            high_price = data['High'].max()\n",
        "            low_price = data['Low'].min()\n",
        "            volume = data['Volume'].iloc[-1]\n",
        "            company_name = yf.Ticker(symbol).info['longName']\n",
        "            answer = f\"For {company_name} stock ({symbol}): \\\n",
        "                        \\n- Current price: ${latest_price:.2f} \\\n",
        "                        \\n- Opening price: ${open_price:.2f} \\\n",
        "                        \\n- Closing price: ${close_price:.2f} \\\n",
        "                        \\n- Highest price today: ${high_price:.2f} \\\n",
        "                        \\n- Lowest price today: ${low_price:.2f} \\\n",
        "                        \\n- Volume: {volume}\"\n",
        "            answers.append(answer)\n",
        "        except:\n",
        "            answers.append(f\"Sorry, I couldn't retrieve the data for {symbol}.\")\n",
        "    return answers\n",
        "\n",
        "# List of stock symbols to fetch live data for\n",
        "symbols = ['AAPL', 'GOOGL', 'MSFT', 'AMZN', 'TSLA', 'FB', 'JPM', 'JNJ', 'BAC', 'V',\n",
        "           'NVDA', 'WMT', 'DIS', 'MA', 'PG', 'INTC', 'HD', 'CMCSA', 'NFLX', 'VZ',\n",
        "           'ADBE', 'TSM', 'PYPL', 'PFE', 'UNH', 'CRM', 'ABT', 'ABBV', 'XOM', 'KO',\n",
        "           'PEP', 'CSCO', 'MRK', 'NKE', 'MCD', 'T', 'WFC', 'BA', 'CVX', 'WBA', 'INTU',\n",
        "           'COST', 'GS', 'TMUS', 'PM', 'AMGN', 'SBUX', 'TXN', 'HON', 'ORCL', 'MDT']\n",
        "\n",
        "# Check if 'FB' is in the list and exclude it\n",
        "if 'FB' in symbols:\n",
        "    symbols.remove('FB')\n",
        "\n",
        "# Select the first 150 symbols if available\n",
        "if len(symbols) >= 150:\n",
        "    symbols_to_use = symbols[:150]\n",
        "else:\n",
        "    symbols_to_use = symbols\n",
        "\n",
        "# Generate answers based on live market data\n",
        "answers = generate_answers(symbols_to_use)\n",
        "\n",
        "# Create a DataFrame containing questions and generated answers\n",
        "data = {\n",
        "    'questions': [f\"What is the current price of {yf.Ticker(symbol).info['longName']} stock ({symbol})?\" for symbol in symbols_to_use] +\n",
        "                 [f\"What is the opening price of {yf.Ticker(symbol).info['longName']} stock ({symbol})?\" for symbol in symbols_to_use] +\n",
        "                 [f\"What is the closing price of {yf.Ticker(symbol).info['longName']} stock ({symbol})?\" for symbol in symbols_to_use] +\n",
        "                 [f\"What is the highest price of {yf.Ticker(symbol).info['longName']} stock ({symbol}) today?\" for symbol in symbols_to_use] +\n",
        "                 [f\"What is the lowest price of {yf.Ticker(symbol).info['longName']} stock ({symbol}) today?\" for symbol in symbols_to_use] +\n",
        "                 [f\"What is the volume of {yf.Ticker(symbol).info['longName']} stock ({symbol}) today?\" for symbol in symbols_to_use],\n",
        "    'answers': answers * 6 # Repeat answers for each type of question\n",
        "}\n",
        "\n",
        "# Convert data into a DataFrame\n",
        "df = pd.DataFrame(data)\n",
        "\n",
        "# Display the first few rows of the dataset\n",
        "# print(df.head())\n",
        "\n",
        "# Train a basic AI model using TF-IDF vectorization and cosine similarity\n",
        "tfidf_vectorizer = TfidfVectorizer()\n",
        "tfidf_matrix = tfidf_vectorizer.fit_transform(df['questions'])\n",
        "\n",
        "# Function to get response from AI model\n",
        "def get_response(user_input):\n",
        "    user_input_vector = tfidf_vectorizer.transform([user_input])\n",
        "    similarities = cosine_similarity(user_input_vector, tfidf_matrix)\n",
        "    max_similarity_index = similarities.argmax()\n",
        "    return df['answers'][max_similarity_index]\n",
        "\n",
        "# Test the AI model\n",
        "#user_input = \"What is the current price of Apple stock?\"\n",
        "#response = get_response(user_input)\n",
        "#print(\"Response:\", response)\n",
        "\n",
        "# Build a chatbot based on the trained AI model\n",
        "print(\"Financial Stock Assistant Chatbot: Hello! How can I assist you today?\")\n",
        "while True:\n",
        "    user_input = input(\"You: \")\n",
        "    if user_input.lower() == 'exit':\n",
        "        print(\"Financial Stock Assistant Chatbot: Goodbye! Have a great day!\")\n",
        "        break\n",
        "    else:\n",
        "        response = get_response(user_input)\n",
        "        print(\"Financial Stock Assistant Chatbot:\", response)\n"
      ]
    },
    {
      "cell_type": "code",
      "execution_count": null,
      "id": "d54d7f00-832c-45cc-9069-751893dc2d81",
      "metadata": {
        "id": "d54d7f00-832c-45cc-9069-751893dc2d81"
      },
      "outputs": [],
      "source": [
        "import yfinance as yf\n",
        "import pandas as pd\n",
        "import random\n",
        "from sklearn.feature_extraction.text import TfidfVectorizer\n",
        "from sklearn.metrics.pairwise import cosine_similarity"
      ]
    },
    {
      "cell_type": "code",
      "execution_count": null,
      "id": "c5e9259a-1f45-4b68-8550-d8a4c87682e7",
      "metadata": {
        "id": "c5e9259a-1f45-4b68-8550-d8a4c87682e7"
      },
      "outputs": [],
      "source": [
        "# Function to fetch live stock data\n",
        "def get_live_stock_data(symbol):\n",
        "    stock = yf.Ticker(symbol)\n",
        "    data = stock.history(period=\"1d\")\n",
        "    return data"
      ]
    },
    {
      "cell_type": "code",
      "execution_count": null,
      "id": "163ece2a-dec7-4765-a997-84cd5acc13f5",
      "metadata": {
        "id": "163ece2a-dec7-4765-a997-84cd5acc13f5"
      },
      "outputs": [],
      "source": [
        "# Function to generate answers based on live market data\n",
        "def generate_answers(symbols):\n",
        "    answers = []\n",
        "    for symbol in symbols:\n",
        "        try:\n",
        "            data = get_live_stock_data(symbol)\n",
        "            latest_price = data['Close'].iloc[-1]\n",
        "            open_price = data['Open'].iloc[-1]\n",
        "            close_price = data['Close'].iloc[-1]\n",
        "            high_price = data['High'].max()\n",
        "            low_price = data['Low'].min()\n",
        "            volume = data['Volume'].iloc[-1]\n",
        "            company_name = yf.Ticker(symbol).info['longName']\n",
        "            answer = f\"For {company_name} stock ({symbol}): \\\n",
        "                        \\n- Current price: ${latest_price:.2f} \\\n",
        "                        \\n- Opening price: ${open_price:.2f} \\\n",
        "                        \\n- Closing price: ${close_price:.2f} \\\n",
        "                        \\n- Highest price today: ${high_price:.2f} \\\n",
        "                        \\n- Lowest price today: ${low_price:.2f} \\\n",
        "                        \\n- Volume: {volume}\"\n",
        "            answers.append(answer)\n",
        "        except:\n",
        "            answers.append(f\"Sorry, I couldn't retrieve the data for {symbol}.\")\n",
        "    return answers"
      ]
    },
    {
      "cell_type": "code",
      "execution_count": null,
      "id": "e5a436e5-6dbe-4ed7-b4a0-ce69f02b67a8",
      "metadata": {
        "id": "e5a436e5-6dbe-4ed7-b4a0-ce69f02b67a8"
      },
      "outputs": [],
      "source": [
        "# List of stock symbols to fetch live data for\n",
        "symbols = ['AAPL', 'GOOGL', 'MSFT', 'AMZN', 'TSLA', 'FB', 'JPM', 'JNJ', 'BAC', 'V',\n",
        "           'NVDA', 'WMT', 'DIS', 'MA', 'PG', 'INTC', 'HD', 'CMCSA', 'NFLX', 'VZ',\n",
        "           'ADBE', 'TSM', 'PYPL', 'PFE', 'UNH', 'CRM', 'ABT', 'ABBV', 'XOM', 'KO',\n",
        "           'PEP', 'CSCO', 'MRK', 'NKE', 'MCD', 'T', 'WFC', 'BA', 'CVX', 'WBA', 'INTU',\n",
        "           'COST', 'GS', 'TMUS', 'PM', 'AMGN', 'SBUX', 'TXN', 'HON', 'ORCL', 'MDT']"
      ]
    },
    {
      "cell_type": "code",
      "execution_count": null,
      "id": "07b5c6ed-f431-4bcb-b9e4-4d95f89888e2",
      "metadata": {
        "id": "07b5c6ed-f431-4bcb-b9e4-4d95f89888e2"
      },
      "outputs": [],
      "source": [
        "# Check if 'FB' is in the list and exclude it\n",
        "if 'FB' in symbols:\n",
        "    symbols.remove('FB')"
      ]
    },
    {
      "cell_type": "code",
      "execution_count": null,
      "id": "11b69651-50c4-4d4a-9da8-6a0e7205df84",
      "metadata": {
        "id": "11b69651-50c4-4d4a-9da8-6a0e7205df84"
      },
      "outputs": [],
      "source": [
        "# Select the first 150 symbols if available\n",
        "if len(symbols) >= 150:\n",
        "    symbols_to_use = symbols[:150]\n",
        "else:\n",
        "    symbols_to_use = symbols"
      ]
    },
    {
      "cell_type": "code",
      "execution_count": null,
      "id": "7ad1d089-b22f-4e8e-9af2-7a79887d1897",
      "metadata": {
        "id": "7ad1d089-b22f-4e8e-9af2-7a79887d1897"
      },
      "outputs": [],
      "source": [
        "# Generate answers based on live market data\n",
        "answers = generate_answers(symbols_to_use)"
      ]
    },
    {
      "cell_type": "code",
      "execution_count": null,
      "id": "a57c4119-0126-4a7d-9c98-97c1bb81fb4f",
      "metadata": {
        "id": "a57c4119-0126-4a7d-9c98-97c1bb81fb4f"
      },
      "outputs": [],
      "source": [
        "# Create a DataFrame containing questions and generated answers\n",
        "data = {\n",
        "    'questions': [f\"What is the current price of {yf.Ticker(symbol).info['longName']} stock ({symbol})?\" for symbol in symbols_to_use] +\n",
        "                 [f\"What is the opening price of {yf.Ticker(symbol).info['longName']} stock ({symbol})?\" for symbol in symbols_to_use] +\n",
        "                 [f\"What is the closing price of {yf.Ticker(symbol).info['longName']} stock ({symbol})?\" for symbol in symbols_to_use] +\n",
        "                 [f\"What is the highest price of {yf.Ticker(symbol).info['longName']} stock ({symbol}) today?\" for symbol in symbols_to_use] +\n",
        "                 [f\"What is the lowest price of {yf.Ticker(symbol).info['longName']} stock ({symbol}) today?\" for symbol in symbols_to_use] +\n",
        "                 [f\"What is the volume of {yf.Ticker(symbol).info['longName']} stock ({symbol}) today?\" for symbol in symbols_to_use],\n",
        "    'answers': answers * 6 # Repeat answers for each type of question\n",
        "}\n"
      ]
    },
    {
      "cell_type": "code",
      "execution_count": null,
      "id": "577e9736-e2cc-4aae-8b5e-adbfc07d8e83",
      "metadata": {
        "colab": {
          "base_uri": "https://localhost:8080/"
        },
        "id": "577e9736-e2cc-4aae-8b5e-adbfc07d8e83",
        "outputId": "2f121d83-da1f-47fb-db18-fa325cd8e09d"
      },
      "outputs": [
        {
          "output_type": "stream",
          "name": "stdout",
          "text": [
            "                                           questions  \\\n",
            "0  What is the current price of Apple Inc. stock ...   \n",
            "1  What is the current price of Alphabet Inc. sto...   \n",
            "2  What is the current price of Microsoft Corpora...   \n",
            "3  What is the current price of Amazon.com, Inc. ...   \n",
            "4  What is the current price of Tesla, Inc. stock...   \n",
            "\n",
            "                                             answers  \n",
            "0  For Apple Inc. stock (AAPL):                  ...  \n",
            "1  For Alphabet Inc. stock (GOOGL):              ...  \n",
            "2  For Microsoft Corporation stock (MSFT):       ...  \n",
            "3  For Amazon.com, Inc. stock (AMZN):            ...  \n",
            "4  For Tesla, Inc. stock (TSLA):                 ...  \n"
          ]
        }
      ],
      "source": [
        "# Convert data into a DataFrame\n",
        "df = pd.DataFrame(data)\n",
        "\n",
        "# Display the first few rows of the dataset\n",
        "print(df.head())"
      ]
    },
    {
      "cell_type": "code",
      "execution_count": null,
      "id": "2f1fe4f2-6e2c-4772-9ddd-785e119f2e16",
      "metadata": {
        "id": "2f1fe4f2-6e2c-4772-9ddd-785e119f2e16"
      },
      "outputs": [],
      "source": [
        "# Train a basic AI model using TF-IDF vectorization and cosine similarity\n",
        "tfidf_vectorizer = TfidfVectorizer()\n",
        "tfidf_matrix = tfidf_vectorizer.fit_transform(df['questions'])"
      ]
    },
    {
      "cell_type": "code",
      "execution_count": null,
      "id": "879b3e89-eb6d-4116-b0e9-c44494d24908",
      "metadata": {
        "id": "879b3e89-eb6d-4116-b0e9-c44494d24908"
      },
      "outputs": [],
      "source": [
        "# Function to get response from AI model\n",
        "def get_response(user_input):\n",
        "    user_input_vector = tfidf_vectorizer.transform([user_input])\n",
        "    similarities = cosine_similarity(user_input_vector, tfidf_matrix)\n",
        "    max_similarity_index = similarities.argmax()\n",
        "    return df['answers'][max_similarity_index]"
      ]
    },
    {
      "cell_type": "code",
      "execution_count": null,
      "id": "da118b01-9299-4a30-a759-a8aff8b155e5",
      "metadata": {
        "colab": {
          "base_uri": "https://localhost:8080/"
        },
        "id": "da118b01-9299-4a30-a759-a8aff8b155e5",
        "outputId": "6baa1204-638f-482c-cc6e-acb9b7de3018"
      },
      "outputs": [
        {
          "output_type": "stream",
          "name": "stdout",
          "text": [
            "Response: For Apple Inc. stock (AAPL):                         \n",
            "- Current price: $226.51                         \n",
            "- Opening price: $225.77                         \n",
            "- Closing price: $226.51                         \n",
            "- Highest price today: $227.17                         \n",
            "- Lowest price today: $225.45                         \n",
            "- Volume: 30241200\n"
          ]
        }
      ],
      "source": [
        "# Test the AI model\n",
        "user_input = \"What is the current price of Apple stock?\"\n",
        "response = get_response(user_input)\n",
        "print(\"Response:\", response)"
      ]
    },
    {
      "cell_type": "code",
      "execution_count": null,
      "id": "fec1ad5e-370f-43cb-8b66-3612d83b312b",
      "metadata": {
        "colab": {
          "base_uri": "https://localhost:8080/",
          "height": 651
        },
        "id": "fec1ad5e-370f-43cb-8b66-3612d83b312b",
        "outputId": "3d5b9c1a-192a-4333-e470-e1e51912a739"
      },
      "outputs": [
        {
          "output_type": "stream",
          "name": "stdout",
          "text": [
            "Financial Stock Assistant Chatbot: Hello! How can I assist you today?\n",
            "You: MSFT\n",
            "Financial Stock Assistant Chatbot: For Microsoft Corporation stock (MSFT):                         \n",
            "- Current price: $424.80                         \n",
            "- Opening price: $421.70                         \n",
            "- Closing price: $424.80                         \n",
            "- Highest price today: $425.86                         \n",
            "- Lowest price today: $421.64                         \n",
            "- Volume: 16352000\n",
            "You: MRF\n",
            "Financial Stock Assistant Chatbot: For Apple Inc. stock (AAPL):                         \n",
            "- Current price: $226.51                         \n",
            "- Opening price: $225.77                         \n",
            "- Closing price: $226.51                         \n",
            "- Highest price today: $227.17                         \n",
            "- Lowest price today: $225.45                         \n",
            "- Volume: 30241200\n"
          ]
        },
        {
          "output_type": "error",
          "ename": "KeyboardInterrupt",
          "evalue": "Interrupted by user",
          "traceback": [
            "\u001b[0;31m---------------------------------------------------------------------------\u001b[0m",
            "\u001b[0;31mKeyboardInterrupt\u001b[0m                         Traceback (most recent call last)",
            "\u001b[0;32m<ipython-input-16-c24f1a0bcc24>\u001b[0m in \u001b[0;36m<cell line: 3>\u001b[0;34m()\u001b[0m\n\u001b[1;32m      2\u001b[0m \u001b[0mprint\u001b[0m\u001b[0;34m(\u001b[0m\u001b[0;34m\"Financial Stock Assistant Chatbot: Hello! How can I assist you today?\"\u001b[0m\u001b[0;34m)\u001b[0m\u001b[0;34m\u001b[0m\u001b[0;34m\u001b[0m\u001b[0m\n\u001b[1;32m      3\u001b[0m \u001b[0;32mwhile\u001b[0m \u001b[0;32mTrue\u001b[0m\u001b[0;34m:\u001b[0m\u001b[0;34m\u001b[0m\u001b[0;34m\u001b[0m\u001b[0m\n\u001b[0;32m----> 4\u001b[0;31m     \u001b[0muser_input\u001b[0m \u001b[0;34m=\u001b[0m \u001b[0minput\u001b[0m\u001b[0;34m(\u001b[0m\u001b[0;34m\"You: \"\u001b[0m\u001b[0;34m)\u001b[0m\u001b[0;34m\u001b[0m\u001b[0;34m\u001b[0m\u001b[0m\n\u001b[0m\u001b[1;32m      5\u001b[0m     \u001b[0;32mif\u001b[0m \u001b[0muser_input\u001b[0m\u001b[0;34m.\u001b[0m\u001b[0mlower\u001b[0m\u001b[0;34m(\u001b[0m\u001b[0;34m)\u001b[0m \u001b[0;34m==\u001b[0m \u001b[0;34m'exit'\u001b[0m\u001b[0;34m:\u001b[0m\u001b[0;34m\u001b[0m\u001b[0;34m\u001b[0m\u001b[0m\n\u001b[1;32m      6\u001b[0m         \u001b[0mprint\u001b[0m\u001b[0;34m(\u001b[0m\u001b[0;34m\"Financial Stock Assistant Chatbot: Goodbye! Have a great day!\"\u001b[0m\u001b[0;34m)\u001b[0m\u001b[0;34m\u001b[0m\u001b[0;34m\u001b[0m\u001b[0m\n",
            "\u001b[0;32m/usr/local/lib/python3.10/dist-packages/ipykernel/kernelbase.py\u001b[0m in \u001b[0;36mraw_input\u001b[0;34m(self, prompt)\u001b[0m\n\u001b[1;32m    849\u001b[0m                 \u001b[0;34m\"raw_input was called, but this frontend does not support input requests.\"\u001b[0m\u001b[0;34m\u001b[0m\u001b[0;34m\u001b[0m\u001b[0m\n\u001b[1;32m    850\u001b[0m             )\n\u001b[0;32m--> 851\u001b[0;31m         return self._input_request(str(prompt),\n\u001b[0m\u001b[1;32m    852\u001b[0m             \u001b[0mself\u001b[0m\u001b[0;34m.\u001b[0m\u001b[0m_parent_ident\u001b[0m\u001b[0;34m,\u001b[0m\u001b[0;34m\u001b[0m\u001b[0;34m\u001b[0m\u001b[0m\n\u001b[1;32m    853\u001b[0m             \u001b[0mself\u001b[0m\u001b[0;34m.\u001b[0m\u001b[0m_parent_header\u001b[0m\u001b[0;34m,\u001b[0m\u001b[0;34m\u001b[0m\u001b[0;34m\u001b[0m\u001b[0m\n",
            "\u001b[0;32m/usr/local/lib/python3.10/dist-packages/ipykernel/kernelbase.py\u001b[0m in \u001b[0;36m_input_request\u001b[0;34m(self, prompt, ident, parent, password)\u001b[0m\n\u001b[1;32m    893\u001b[0m             \u001b[0;32mexcept\u001b[0m \u001b[0mKeyboardInterrupt\u001b[0m\u001b[0;34m:\u001b[0m\u001b[0;34m\u001b[0m\u001b[0;34m\u001b[0m\u001b[0m\n\u001b[1;32m    894\u001b[0m                 \u001b[0;31m# re-raise KeyboardInterrupt, to truncate traceback\u001b[0m\u001b[0;34m\u001b[0m\u001b[0;34m\u001b[0m\u001b[0m\n\u001b[0;32m--> 895\u001b[0;31m                 \u001b[0;32mraise\u001b[0m \u001b[0mKeyboardInterrupt\u001b[0m\u001b[0;34m(\u001b[0m\u001b[0;34m\"Interrupted by user\"\u001b[0m\u001b[0;34m)\u001b[0m \u001b[0;32mfrom\u001b[0m \u001b[0;32mNone\u001b[0m\u001b[0;34m\u001b[0m\u001b[0;34m\u001b[0m\u001b[0m\n\u001b[0m\u001b[1;32m    896\u001b[0m             \u001b[0;32mexcept\u001b[0m \u001b[0mException\u001b[0m \u001b[0;32mas\u001b[0m \u001b[0me\u001b[0m\u001b[0;34m:\u001b[0m\u001b[0;34m\u001b[0m\u001b[0;34m\u001b[0m\u001b[0m\n\u001b[1;32m    897\u001b[0m                 \u001b[0mself\u001b[0m\u001b[0;34m.\u001b[0m\u001b[0mlog\u001b[0m\u001b[0;34m.\u001b[0m\u001b[0mwarning\u001b[0m\u001b[0;34m(\u001b[0m\u001b[0;34m\"Invalid Message:\"\u001b[0m\u001b[0;34m,\u001b[0m \u001b[0mexc_info\u001b[0m\u001b[0;34m=\u001b[0m\u001b[0;32mTrue\u001b[0m\u001b[0;34m)\u001b[0m\u001b[0;34m\u001b[0m\u001b[0;34m\u001b[0m\u001b[0m\n",
            "\u001b[0;31mKeyboardInterrupt\u001b[0m: Interrupted by user"
          ]
        }
      ],
      "source": [
        "# Build a chatbot based on the trained AI model\n",
        "print(\"Financial Stock Assistant Chatbot: Hello! How can I assist you today?\")\n",
        "while True:\n",
        "    user_input = input(\"You: \")\n",
        "    if user_input.lower() == 'exit':\n",
        "        print(\"Financial Stock Assistant Chatbot: Goodbye! Have a great day!\")\n",
        "        break\n",
        "    else:\n",
        "        response = get_response(user_input)\n",
        "        print(\"Financial Stock Assistant Chatbot:\", response)"
      ]
    },
    {
      "cell_type": "code",
      "execution_count": null,
      "id": "8221dbe9-f145-45d2-ba55-662ad0df0923",
      "metadata": {
        "id": "8221dbe9-f145-45d2-ba55-662ad0df0923"
      },
      "outputs": [],
      "source": []
    }
  ],
  "metadata": {
    "kernelspec": {
      "display_name": "NLTK_KERNEL",
      "language": "python",
      "name": "nltk_kernel"
    },
    "language_info": {
      "codemirror_mode": {
        "name": "ipython",
        "version": 3
      },
      "file_extension": ".py",
      "mimetype": "text/x-python",
      "name": "python",
      "nbconvert_exporter": "python",
      "pygments_lexer": "ipython3",
      "version": "3.12.3"
    },
    "colab": {
      "provenance": []
    }
  },
  "nbformat": 4,
  "nbformat_minor": 5
}